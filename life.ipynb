{
  "nbformat": 4,
  "nbformat_minor": 0,
  "metadata": {
    "colab": {
      "name": "life.ipynb",
      "provenance": [],
      "collapsed_sections": [],
      "authorship_tag": "ABX9TyOR+tbwATw+HTvHyvGppS2A",
      "include_colab_link": true
    },
    "kernelspec": {
      "name": "python3",
      "display_name": "Python 3"
    },
    "language_info": {
      "name": "python"
    }
  },
  "cells": [
    {
      "cell_type": "markdown",
      "metadata": {
        "id": "view-in-github",
        "colab_type": "text"
      },
      "source": [
        "<a href=\"https://colab.research.google.com/github/sonuengineer/A-Story-main/blob/main/life.ipynb\" target=\"_parent\"><img src=\"https://colab.research.google.com/assets/colab-badge.svg\" alt=\"Open In Colab\"/></a>"
      ]
    },
    {
      "cell_type": "code",
      "execution_count": 1,
      "metadata": {
        "id": "M2-1B0Sn6iE5"
      },
      "outputs": [],
      "source": [
        "import pylab\n",
        "import numpy as np\n"
      ]
    },
    {
      "cell_type": "code",
      "source": [
        "# Width of heart\n",
        "Xaxis = np.linspace(-2, 2, \n",
        "                    100000)\n",
        "  \n",
        "# Setting upper y \n",
        "Y1axis = np.sqrt(1 - \n",
        "         (abs(Xaxis) - 1) **2)\n",
        "  \n",
        "# Setting -y\n",
        "Y2axis = -3 * np.sqrt(1 - \n",
        "         (abs(Xaxis) / 2) **0.5)\n",
        "  \n",
        "# Adjust colour for upper part \n",
        "# of herat\n",
        "pylab.fill_between(Xaxis, Y1axis, \n",
        "                   color = 'red')\n",
        "  \n",
        "# Adjust colour for lower part \n",
        "# of heart\n",
        "pylab.fill_between(Xaxis, Y2axis, \n",
        "                   color = 'red')\n",
        "  \n",
        "  \n",
        "pylab.xlim([-2.5, 2.5])\n",
        "pylab.axis(\"off\")\n",
        "  \n",
        "# Driver Code\n",
        "text = \"My life My Nobyy\"\n",
        "  \n",
        "pylab.text(0, -0.4, text, \n",
        "           fontsize = 24, \n",
        "           fontweight = 'bold',\n",
        "           color = 'white', \n",
        "           horizontalalignment = 'center')"
      ],
      "metadata": {
        "colab": {
          "base_uri": "https://localhost:8080/",
          "height": 266
        },
        "id": "vwRrzdrA6k5_",
        "outputId": "0bc0ce43-08cb-4001-e670-b033a36f5c83"
      },
      "execution_count": 3,
      "outputs": [
        {
          "output_type": "execute_result",
          "data": {
            "text/plain": [
              "Text(0, -0.4, 'My life My Nobyy')"
            ]
          },
          "metadata": {},
          "execution_count": 3
        },
        {
          "output_type": "display_data",
          "data": {
            "image/png": "[encoded data removed]",
            "text/plain": [
              "<Figure size 432x288 with 1 Axes>"
            ]
          },
          "metadata": {
            "needs_background": "light"
          }
        }
      ]
    },
    {
      "cell_type": "code",
      "source": [
        ""
      ],
      "metadata": {
        "id": "Y5UfhKvn9O_B"
      },
      "execution_count": null,
      "outputs": []
    }
  ]
}